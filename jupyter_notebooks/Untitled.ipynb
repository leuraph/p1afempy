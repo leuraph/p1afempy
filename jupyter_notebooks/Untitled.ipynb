{
 "cells": [
  {
   "cell_type": "code",
   "execution_count": 1,
   "id": "d7a98384-63a2-497b-b1f0-8d3f4637b2ed",
   "metadata": {},
   "outputs": [],
   "source": [
    "import numpy as np\n",
    "import sympy"
   ]
  },
  {
   "cell_type": "code",
   "execution_count": 2,
   "id": "034dac0f-a25b-44ef-b595-5d39822d5b68",
   "metadata": {},
   "outputs": [],
   "source": [
    "def u(x: float, y: float) -> float:\n",
    "    \"\"\"analytical solution u(x, y)\"\"\"\n",
    "    return np.cos(2.*x)*np.sin(y)\n",
    "\n",
    "def f(x: float, y: float) -> float:\n",
    "    \"\"\"-laplace u(x, y) = f = 5u\"\"\"\n",
    "    return 5. * u(x, y)"
   ]
  },
  {
   "cell_type": "code",
   "execution_count": 3,
   "id": "960e7c7e-e6cd-4e2a-b12e-bd5f21b73596",
   "metadata": {},
   "outputs": [
    {
     "name": "stdout",
     "output_type": "stream",
     "text": [
      "g_right:\n",
      "[2⋅sin(y)⋅cos(2⋅x)]\n",
      "g_upper:\n",
      "[sin(2⋅x)⋅cos(y)]\n"
     ]
    }
   ],
   "source": [
    "x, y = sympy.symbols('x y')\n",
    "u = sympy.sin(2*x)*sympy.sin(y)\n",
    "grad_u = sympy.Matrix([u.diff(x), u.diff(y)])\n",
    "\n",
    "# outward normal vectors of unit square on ((1, y) and (x, 1))\n",
    "n_right = sympy.Matrix([1, 0])\n",
    "n_upper = sympy.Matrix([0, 1])\n",
    "\n",
    "g_right = grad_u.transpose() * n_right\n",
    "g_upper = grad_u.transpose() * n_upper\n",
    "\n",
    "print('g_right:')\n",
    "sympy.pprint(g_right)\n",
    "\n",
    "print('g_upper:')\n",
    "sympy.pprint(g_upper)"
   ]
  },
  {
   "cell_type": "code",
   "execution_count": null,
   "id": "0cae174d-50e4-4d34-b3d7-67e2f0cd0d92",
   "metadata": {},
   "outputs": [],
   "source": []
  }
 ],
 "metadata": {
  "kernelspec": {
   "display_name": "Python 3 (ipykernel)",
   "language": "python",
   "name": "python3"
  },
  "language_info": {
   "codemirror_mode": {
    "name": "ipython",
    "version": 3
   },
   "file_extension": ".py",
   "mimetype": "text/x-python",
   "name": "python",
   "nbconvert_exporter": "python",
   "pygments_lexer": "ipython3",
   "version": "3.9.6"
  }
 },
 "nbformat": 4,
 "nbformat_minor": 5
}
